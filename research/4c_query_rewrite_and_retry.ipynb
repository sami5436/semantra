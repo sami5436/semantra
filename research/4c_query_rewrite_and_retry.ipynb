{
 "cells": [
  {
   "cell_type": "markdown",
   "id": "007e617a",
   "metadata": {},
   "source": [
    "### 4c_query_rewrite_and_retry.ipynb  \n",
    "If the results are poor, asks LLaMA to rewrite or clarify the query.  \n",
    "Repeats the vector search using the new version of the query.  \n",
    "Loops until the matches are deemed acceptable or a retry limit is reached."
   ]
  },
  {
   "cell_type": "code",
   "execution_count": 12,
   "id": "28d94460",
   "metadata": {},
   "outputs": [],
   "source": [
    "from langchain.chat_models import ChatOllama\n",
    "from langchain.schema import SystemMessage, HumanMessage\n",
    "from langchain.vectorstores import FAISS\n",
    "from langchain.embeddings import HuggingFaceEmbeddings"
   ]
  },
  {
   "cell_type": "markdown",
   "id": "3a0a3cff",
   "metadata": {},
   "source": [
    "set up embedder object and load the locally stored vector store that has the chunks from the og site content"
   ]
  },
  {
   "cell_type": "code",
   "execution_count": 13,
   "id": "2a638331",
   "metadata": {},
   "outputs": [],
   "source": [
    "embedder = HuggingFaceEmbeddings(model_name=\"all-MiniLM-L6-v2\")\n",
    "vectorstore = FAISS.load_local(\"vectorstore/\", embeddings=embedder, allow_dangerous_deserialization=True)"
   ]
  },
  {
   "cell_type": "markdown",
   "id": "40b08b64",
   "metadata": {},
   "source": [
    "create llm object"
   ]
  },
  {
   "cell_type": "code",
   "execution_count": 14,
   "id": "5509a8f5",
   "metadata": {},
   "outputs": [],
   "source": [
    "llm = ChatOllama(model=\"llama3\")"
   ]
  },
  {
   "cell_type": "markdown",
   "id": "b7f7b383",
   "metadata": {},
   "source": [
    "define some vars used later"
   ]
  },
  {
   "cell_type": "code",
   "execution_count": 15,
   "id": "ab3ce271",
   "metadata": {},
   "outputs": [],
   "source": [
    "original_query = \"battery duration of hip and ankle configurations\"\n",
    "query = original_query\n",
    "max_retries = 3\n",
    "attempt = 0"
   ]
  },
  {
   "cell_type": "markdown",
   "id": "368ae066",
   "metadata": {},
   "source": []
  },
  {
   "cell_type": "code",
   "execution_count": 16,
   "id": "02d1ba02",
   "metadata": {},
   "outputs": [
    {
     "name": "stdout",
     "output_type": "stream",
     "text": [
      "\n",
      "llama judgment: YES\n",
      "\n",
      "The retrieved chunks provide partial answers to the query about battery duration of hip and ankle configurations. Specifically, they mention that the hip-and-ankle configuration operated for 35 minutes before reaching 50% of the voltage capacity of the battery. Additionally, it is mentioned that each configuration was evaluated in terms of its life span when operating on a certain battery, but the actual durations are not specified.\n",
      "\n",
      "final query accepted after 1 attempt(s): battery duration of hip and ankle configurations\n"
     ]
    }
   ],
   "source": [
    "while attempt < max_retries:\n",
    "    \n",
    "    # perform similarity search on the vector db - running same process as before 4a\n",
    "    matches = vectorstore.similarity_search(query, k=3)\n",
    "    context = \"\\n\\n\".join([m.page_content for m in matches])\n",
    "\n",
    "    # ask llama if these results are relevant to the query - 4b process\n",
    "    eval_messages = [\n",
    "        SystemMessage(\n",
    "            content=\"You are a helpful assistant that checks if a retrieved document answers the query.\"\n",
    "        ),\n",
    "        HumanMessage(\n",
    "            content=(\n",
    "                f\"User query: {query}\\n\\n\"\n",
    "                f\"Retrieved chunks:\\n{context}\\n\\n\"\n",
    "                \"Do these chunks fully or partially answer the query? \"\n",
    "                \"Reply YES or NO with a short explanation.\"\n",
    "            )\n",
    "        )\n",
    "    ]\n",
    "    judgment = llm.invoke(eval_messages).content.strip()\n",
    "    print(f\"\\nllama judgment: {judgment}\")\n",
    "\n",
    "    # if results are good, break out of the loop\n",
    "    if judgment.upper().startswith(\"YES\"):\n",
    "        print(f\"\\nfinal query accepted after {attempt + 1} attempt(s): {query}\")\n",
    "        break\n",
    "\n",
    "    # if results are poor, ask llama to rewrite the query\n",
    "    rewrite_messages = [\n",
    "        SystemMessage(\n",
    "            content=\"You are an assistant that helps rewrite vague or unclear user queries to make them more effective for semantic document search.\"\n",
    "        ),\n",
    "        HumanMessage(\n",
    "            content=(\n",
    "                f\"The query was: '{query}'\\n\\n\"\n",
    "                \"The results were not relevant. Rewrite the query to be more precise or reworded to help find better results. \"\n",
    "                \"Only return the new query text.\"\n",
    "            )\n",
    "        )\n",
    "    ]\n",
    "    new_query = llm.invoke(rewrite_messages).content.strip()\n",
    "    print(f\"\\ntrying new query: {new_query}\")\n",
    "\n",
    "    # update query and attempt counter\n",
    "    query = new_query\n",
    "    attempt += 1"
   ]
  },
  {
   "cell_type": "code",
   "execution_count": 17,
   "id": "fa68e7c9",
   "metadata": {},
   "outputs": [
    {
     "name": "stdout",
     "output_type": "stream",
     "text": [
      "\n",
      "final matched chunks for query: 'battery duration of hip and ankle configurations'\n",
      "\n",
      "chunk 1:\n",
      "and hip-and-ankle configurations were able to operate for 35, 25, and 15 min, respectively, before reaching 50% of the voltage capacity of the battery (~900 mAh). Similarly, the elbow configuration...\n",
      "\n",
      "chunk 2:\n",
      "increase interest in this joint. We evaluated the life span of each configuration when operating on a 22.2-V, 1800-mAh LiPo battery. The hip, ankle, and hip-and-ankle configurations were able to...\n",
      "\n",
      "chunk 3:\n",
      "whereas the battery decreased until reaching the manufacturer’s recommended limit. When configured to provide simultaneous assistance to the hip and ankle joints, the device was able to operate for...\n",
      "\n"
     ]
    }
   ],
   "source": [
    "print(f\"\\nfinal matched chunks for query: '{query}'\\n\")\n",
    "for i, m in enumerate(matches):\n",
    "    print(f\"chunk {i+1}:\\n{m.page_content[:300]}...\\n\")"
   ]
  }
 ],
 "metadata": {
  "kernelspec": {
   "display_name": "ig-reel-env",
   "language": "python",
   "name": "python3"
  },
  "language_info": {
   "codemirror_mode": {
    "name": "ipython",
    "version": 3
   },
   "file_extension": ".py",
   "mimetype": "text/x-python",
   "name": "python",
   "nbconvert_exporter": "python",
   "pygments_lexer": "ipython3",
   "version": "3.11.13"
  }
 },
 "nbformat": 4,
 "nbformat_minor": 5
}
