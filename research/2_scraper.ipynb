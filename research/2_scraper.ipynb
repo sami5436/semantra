{
 "cells": [
  {
   "cell_type": "markdown",
   "id": "3acb6547",
   "metadata": {},
   "source": [
    "### 2_scraper.ipynb  \n",
    "- Grabs the visible text content from a test website using Python.  \n",
    "- Strips HTML and returns plain text that represents the body of a webpage.  \n",
    "- This simulates what the Chrome extension would send."
   ]
  },
  {
   "cell_type": "code",
   "execution_count": 7,
   "id": "1e44fbbb",
   "metadata": {},
   "outputs": [],
   "source": [
    "import undetected_chromedriver as uc\n",
    "from selenium.webdriver.common.by import By\n",
    "from selenium.webdriver.chrome.options import Options\n",
    "from bs4 import BeautifulSoup\n",
    "import re, os\n",
    "import time"
   ]
  },
  {
   "cell_type": "markdown",
   "id": "09efe74e",
   "metadata": {},
   "source": [
    "Launches a real Chrome browser to bypass anti-bot systems like Cloudflare\n",
    "\n",
    "Navigates to the URL, waits 10 seconds, and returns the full rendered HTML of the page"
   ]
  },
  {
   "cell_type": "code",
   "execution_count": 8,
   "id": "15c9b264",
   "metadata": {},
   "outputs": [],
   "source": [
    "def fetch_html_with_selenium(url):\n",
    "    options = Options()\n",
    "    options.add_argument(\"--disable-blink-features=AutomationControlled\")\n",
    "    # options.add_argument(\"--headless=new\")  \n",
    "\n",
    "    # Manually set version_main to match your local Chrome\n",
    "    driver = uc.Chrome(version_main=137, options=options)  \n",
    "    driver.get(url)\n",
    "\n",
    "    # Give Cloudflare time to verify you\n",
    "    time.sleep(10)\n",
    "\n",
    "    html = driver.page_source\n",
    "    driver.quit()\n",
    "    return html"
   ]
  },
  {
   "cell_type": "markdown",
   "id": "528bc47e",
   "metadata": {},
   "source": [
    "Parses the HTML using BeautifulSoup and removes unwanted tags\n",
    "\n",
    "Extracts and returns the readable, human-facing text from the page, collapsed into clean whitespace\n"
   ]
  },
  {
   "cell_type": "code",
   "execution_count": 9,
   "id": "380c1bd2",
   "metadata": {},
   "outputs": [],
   "source": [
    "def extract_visible_text(html):\n",
    "    soup = BeautifulSoup(html, \"html.parser\")\n",
    "    for tag in soup([\"script\", \"style\", \"noscript\", \"header\", \"footer\", \"svg\", \"img\"]):\n",
    "        tag.decompose()\n",
    "    text = soup.get_text(separator=\" \")\n",
    "    return re.sub(r\"\\s+\", \" \", text).strip()"
   ]
  },
  {
   "cell_type": "markdown",
   "id": "fc6d0b3b",
   "metadata": {},
   "source": [
    "Trims leading/trailing spaces from the text"
   ]
  },
  {
   "cell_type": "code",
   "execution_count": 10,
   "id": "fcfcfce6",
   "metadata": {},
   "outputs": [],
   "source": [
    "def clean_text(text):\n",
    "    return text.strip()"
   ]
  },
  {
   "cell_type": "markdown",
   "id": "b90eb69c",
   "metadata": {},
   "source": [
    "Combines all three steps: fetches the HTML, extracts visible content, and cleans it\n",
    "\n",
    "Returns the final plain text ready for semantic search, embedding, or display"
   ]
  },
  {
   "cell_type": "code",
   "execution_count": 11,
   "id": "930c7521",
   "metadata": {},
   "outputs": [],
   "source": [
    "def scrape_page_text(url):\n",
    "    html = fetch_html_with_selenium(url)\n",
    "    visible = extract_visible_text(html)\n",
    "    cleaned = clean_text(visible)\n",
    "    return cleaned\n"
   ]
  },
  {
   "cell_type": "code",
   "execution_count": 12,
   "id": "5b244746",
   "metadata": {},
   "outputs": [],
   "source": [
    "url = \"https://www.science.org/doi/10.1126/scirobotics.adt1591\"\n",
    "page_text = scrape_page_text(url)"
   ]
  },
  {
   "cell_type": "code",
   "execution_count": 13,
   "id": "6a68f989",
   "metadata": {},
   "outputs": [],
   "source": [
    "os.makedirs(\"data\", exist_ok=True)\n",
    "with open(\"data/content.txt\", \"w\", encoding=\"utf-8\") as f:\n",
    "    f.write(page_text)"
   ]
  }
 ],
 "metadata": {
  "kernelspec": {
   "display_name": "ig-reel-env",
   "language": "python",
   "name": "python3"
  },
  "language_info": {
   "codemirror_mode": {
    "name": "ipython",
    "version": 3
   },
   "file_extension": ".py",
   "mimetype": "text/x-python",
   "name": "python",
   "nbconvert_exporter": "python",
   "pygments_lexer": "ipython3",
   "version": "3.11.13"
  }
 },
 "nbformat": 4,
 "nbformat_minor": 5
}
