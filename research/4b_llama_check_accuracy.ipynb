{
 "cells": [
  {
   "cell_type": "markdown",
   "id": "5b2fde58",
   "metadata": {},
   "source": [
    "### 4b_llama_check_accuracy.ipynb  \n",
    "Uses LLaMA to evaluate whether the top chunks are relevant to the query.  \n",
    "LLaMA returns a yes/no judgment and justification (\"These chunks seem unrelated because...\")."
   ]
  },
  {
   "cell_type": "code",
   "execution_count": 10,
   "id": "5dbb1a96",
   "metadata": {},
   "outputs": [],
   "source": [
    "from langchain.chat_models import ChatOllama\n",
    "from langchain.schema import SystemMessage, HumanMessage"
   ]
  },
  {
   "cell_type": "markdown",
   "id": "eeb8986a",
   "metadata": {},
   "source": [
    "call llm model"
   ]
  },
  {
   "cell_type": "code",
   "execution_count": 11,
   "id": "abf2066d",
   "metadata": {},
   "outputs": [],
   "source": [
    "llm = ChatOllama(model=\"llama3\") "
   ]
  },
  {
   "cell_type": "markdown",
   "id": "52e5cfaf",
   "metadata": {},
   "source": [
    "define original query"
   ]
  },
  {
   "cell_type": "code",
   "execution_count": 12,
   "id": "75516925",
   "metadata": {},
   "outputs": [],
   "source": [
    "query = \"battery duration of hip and ankle configurations\""
   ]
  },
  {
   "cell_type": "markdown",
   "id": "dc900732",
   "metadata": {},
   "source": [
    "define chunk txt paths"
   ]
  },
  {
   "cell_type": "code",
   "execution_count": 13,
   "id": "15432f8d",
   "metadata": {},
   "outputs": [],
   "source": [
    "chunk_paths = [\"data/chunk_1.txt\", \"data/chunk_2.txt\", \"data/chunk_3.txt\"]"
   ]
  },
  {
   "cell_type": "markdown",
   "id": "515ca284",
   "metadata": {},
   "source": [
    "retrieve and store"
   ]
  },
  {
   "cell_type": "code",
   "execution_count": 14,
   "id": "e4c63a03",
   "metadata": {},
   "outputs": [],
   "source": [
    "retrieved_chunks = []\n",
    "for path in chunk_paths:\n",
    "    with open(path, \"r\") as f:\n",
    "        retrieved_chunks.append(f.read())"
   ]
  },
  {
   "cell_type": "code",
   "execution_count": 15,
   "id": "1f0cfd9b",
   "metadata": {},
   "outputs": [
    {
     "name": "stdout",
     "output_type": "stream",
     "text": [
      "['and hip-and-ankle configurations were able to operate for 35, 25, and 15 min, respectively, before reaching 50% of the voltage capacity of the battery (~900 mAh). Similarly, the elbow configuration', 'increase interest in this joint. We evaluated the life span of each configuration when operating on a 22.2-V, 1800-mAh LiPo battery. The hip, ankle, and hip-and-ankle configurations were able to', 'whereas the battery decreased until reaching the manufacturer’s recommended limit. When configured to provide simultaneous assistance to the hip and ankle joints, the device was able to operate for']\n"
     ]
    }
   ],
   "source": [
    "retrieved_context = \"\\n\\n\".join(retrieved_chunks)\n",
    "print(retrieved_chunks)"
   ]
  },
  {
   "cell_type": "markdown",
   "id": "abb038c6",
   "metadata": {},
   "source": [
    "build a very good prompt hehe"
   ]
  },
  {
   "cell_type": "code",
   "execution_count": 16,
   "id": "0159920a",
   "metadata": {},
   "outputs": [],
   "source": [
    "messages = [\n",
    "    SystemMessage(\n",
    "        content=(\n",
    "            \"You are a helpful assistant that checks whether retrieved context chunks \"\n",
    "            \"are relevant and sufficient to answer a user's query.\"\n",
    "        )\n",
    "    ),\n",
    "    HumanMessage(\n",
    "        content=(\n",
    "            f\"User query: {query}\\n\\n\"\n",
    "            f\"Retrieved chunks:\\n{retrieved_context}\\n\\n\"\n",
    "            \"Is the retrieved information enough to fully or partially answer the question? \"\n",
    "            \"Respond with YES or NO and a brief explanation.\"\n",
    "        )\n",
    "    )\n",
    "]"
   ]
  },
  {
   "cell_type": "code",
   "execution_count": 17,
   "id": "f4f875ed",
   "metadata": {},
   "outputs": [],
   "source": [
    "# run the prompt using llama3 locally\n",
    "response = llm.invoke(messages)"
   ]
  },
  {
   "cell_type": "code",
   "execution_count": 18,
   "id": "18d97417",
   "metadata": {},
   "outputs": [
    {
     "name": "stdout",
     "output_type": "stream",
     "text": [
      "llama judgment:\n",
      "\n",
      "YES\n",
      "\n",
      "The retrieved chunks directly address the battery duration of different configurations (hip, ankle, hip-and-ankle) by providing specific times before reaching 50% of the voltage capacity (~35, ~25, and ~15 min). This information partially answers the user's query about battery duration for these configurations.\n"
     ]
    }
   ],
   "source": [
    "print(\"llama judgment:\\n\")\n",
    "print(response.content)"
   ]
  }
 ],
 "metadata": {
  "kernelspec": {
   "display_name": "ig-reel-env",
   "language": "python",
   "name": "python3"
  },
  "language_info": {
   "codemirror_mode": {
    "name": "ipython",
    "version": 3
   },
   "file_extension": ".py",
   "mimetype": "text/x-python",
   "name": "python",
   "nbconvert_exporter": "python",
   "pygments_lexer": "ipython3",
   "version": "3.11.13"
  }
 },
 "nbformat": 4,
 "nbformat_minor": 5
}
