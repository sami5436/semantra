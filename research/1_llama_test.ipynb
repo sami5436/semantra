{
 "cells": [
  {
   "cell_type": "code",
   "execution_count": 3,
   "id": "9728733c",
   "metadata": {},
   "outputs": [],
   "source": [
    "from langchain_ollama import OllamaLLM"
   ]
  },
  {
   "cell_type": "code",
   "execution_count": 4,
   "id": "1f9d609f",
   "metadata": {},
   "outputs": [
    {
     "name": "stdout",
     "output_type": "stream",
     "text": [
      "Y'all! As a world traveler and native Texan, I'm happy to share my fave quick things to do in H-Town:\n",
      "\n",
      "1. Visit the NASA Johnson Space Center: Get ready for liftoff at this iconic space museum!\n",
      "2. Stroll through the Houston Arboretum & Nature Preserve: Explore 155 acres of beautiful gardens and nature.\n",
      "3. Indulge in Tex-Mex at Ninfa's Uptown Taqueria: Try their famous fajitas and margaritas!\n",
      "4. Discover street art in the East End: Check out vibrant murals and muramurals in this hip neighborhood.\n",
      "5. Explore the Museum District: Visit over 19 museums, including the Museum of Fine Arts, Houston, and the Children's Museum of Houston!\n",
      "\n",
      "That's it, y'all! Get ready to experience the best of Houston in no time!\n"
     ]
    }
   ],
   "source": [
    "llm = OllamaLLM(model=\"llama3\")\n",
    "response = llm.invoke(\"You're a world travel expert from Houston, Texas. Give 5 quick things to do in Houston. Keep it short.\")\n",
    "print(response)"
   ]
  }
 ],
 "metadata": {
  "kernelspec": {
   "display_name": "ig-reel-env",
   "language": "python",
   "name": "python3"
  },
  "language_info": {
   "codemirror_mode": {
    "name": "ipython",
    "version": 3
   },
   "file_extension": ".py",
   "mimetype": "text/x-python",
   "name": "python",
   "nbconvert_exporter": "python",
   "pygments_lexer": "ipython3",
   "version": "3.11.13"
  }
 },
 "nbformat": 4,
 "nbformat_minor": 5
}
