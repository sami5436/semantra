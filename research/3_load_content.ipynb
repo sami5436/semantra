{
 "cells": [
  {
   "cell_type": "markdown",
   "id": "df84efe1",
   "metadata": {},
   "source": [
    "### 3_load_content.ipynb  \n",
    "Splits the page text into chunks.  \n",
    "Embeds each chunk using HuggingFace embeddings.  \n",
    "Stores all embeddings in a FAISS vector database for fast semantic search."
   ]
  },
  {
   "cell_type": "code",
   "execution_count": 20,
   "id": "ad1383d7",
   "metadata": {},
   "outputs": [],
   "source": [
    "from langchain.text_splitter import RecursiveCharacterTextSplitter\n",
    "from langchain.vectorstores import FAISS\n",
    "from langchain.embeddings import HuggingFaceEmbeddings"
   ]
  },
  {
   "cell_type": "markdown",
   "id": "c207cd05",
   "metadata": {},
   "source": [
    "load page text from 2_scraper output"
   ]
  },
  {
   "cell_type": "code",
   "execution_count": 21,
   "id": "6f901672",
   "metadata": {},
   "outputs": [
    {
     "name": "stdout",
     "output_type": "stream",
     "text": [
      "OpenExo: An open-source modular exoskeleton to augment human function | Science Robotics Skip to main content Advertisement Log In Become A Member Donate Quick Search anywhere Enter Search Term science.org news careers commentary Journals science science advances science immunology science robotics Current Issue Archive About About Science Robotics Mission & Scope Editors & Advisory Boards Editorial Policies Information for Authors Information for Reviewers Staff Journal Metrics Frequently Asked\n"
     ]
    }
   ],
   "source": [
    "# load the text content from a file or string\n",
    "with open(\"/Users/samihamdalla/Projects/semantra/semantra/research/data/content.txt\", \"r\", encoding=\"utf-8\") as f:\n",
    "    text = f.read()\n",
    "\n",
    "print(text[:500]) # prints first 500 char to check\n"
   ]
  },
  {
   "cell_type": "markdown",
   "id": "3fa55c0d",
   "metadata": {},
   "source": [
    "creates an object named splitter that will be used to actually split the text into chunks of 500 w/ overlap of 50"
   ]
  },
  {
   "cell_type": "code",
   "execution_count": null,
   "id": "e6450cd2",
   "metadata": {},
   "outputs": [
    {
     "name": "stdout",
     "output_type": "stream",
     "text": [
      "number of chunks: 258\n",
      "OpenExo: An open-source modular exoskeleton to augment human function | Science Robotics Skip to main content Advertisement Log In Become A Member Donate Quick Search anywhere Enter Search Term science.org news careers commentary Journals science science advances science immunology science robotics Current Issue Archive About About Science Robotics Mission & Scope Editors & Advisory Boards Editorial Policies Information for Authors Information for Reviewers Staff Journal Metrics Frequently Asked\n"
     ]
    }
   ],
   "source": [
    "# create a text splitter with chunk size and overlap\n",
    "splitter = RecursiveCharacterTextSplitter(chunk_size=200, chunk_overlap=50)\n",
    "\n",
    "# split the text into overlapping chunks\n",
    "chunks = splitter.split_text(text)\n",
    "\n",
    "# print number of chunks and a sample\n",
    "print(f\"number of chunks: {len(chunks)}\")\n",
    "print(chunks[0])"
   ]
  },
  {
   "cell_type": "markdown",
   "id": "9a798386",
   "metadata": {},
   "source": [
    "creates an embedder object that will be used to \"embed\" the chunks into vector embeddings"
   ]
  },
  {
   "cell_type": "code",
   "execution_count": 23,
   "id": "65ca2573",
   "metadata": {},
   "outputs": [],
   "source": [
    "# initialize the huggingface embedding model\n",
    "embedder = HuggingFaceEmbeddings(model_name=\"all-MiniLM-L6-v2\")\n",
    "\n",
    "# convert the text chunks into vector embeddings\n",
    "embeddings = embedder.embed_documents(chunks)"
   ]
  },
  {
   "cell_type": "markdown",
   "id": "9f247f98",
   "metadata": {},
   "source": [
    "creates a vector store using the chunks and the embedder object created earlier\n",
    "\n",
    "saves it locally"
   ]
  },
  {
   "cell_type": "code",
   "execution_count": 24,
   "id": "dc11ba82",
   "metadata": {},
   "outputs": [],
   "source": [
    "# create a faiss vectorstore from text and their embeddings\n",
    "vectorstore = FAISS.from_texts(texts=chunks, embedding=embedder)\n",
    "\n",
    "# save the faiss index to disk for future use\n",
    "vectorstore.save_local(\"vectorstore/\")"
   ]
  }
 ],
 "metadata": {
  "kernelspec": {
   "display_name": "ig-reel-env",
   "language": "python",
   "name": "python3"
  },
  "language_info": {
   "codemirror_mode": {
    "name": "ipython",
    "version": 3
   },
   "file_extension": ".py",
   "mimetype": "text/x-python",
   "name": "python",
   "nbconvert_exporter": "python",
   "pygments_lexer": "ipython3",
   "version": "3.11.13"
  }
 },
 "nbformat": 4,
 "nbformat_minor": 5
}
