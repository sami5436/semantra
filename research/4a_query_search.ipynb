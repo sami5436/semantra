{
 "cells": [
  {
   "cell_type": "markdown",
   "id": "72de746d",
   "metadata": {},
   "source": [
    "### 4a_query_search.ipynb  \n",
    "Takes a raw user query.  \n",
    "Performs a top-k similarity search in the vector database.  \n",
    "Returns the top chunks as preliminary matches."
   ]
  },
  {
   "cell_type": "code",
   "execution_count": 9,
   "id": "9fa72f28",
   "metadata": {},
   "outputs": [],
   "source": [
    "from langchain.vectorstores import FAISS\n",
    "from langchain.embeddings import HuggingFaceEmbeddings\n",
    "import os"
   ]
  },
  {
   "cell_type": "markdown",
   "id": "6da3e13f",
   "metadata": {},
   "source": [
    "we are going to create an embedder object \n",
    "\n",
    "use this embedder object to load the FAISS vectorstore locally"
   ]
  },
  {
   "cell_type": "code",
   "execution_count": 10,
   "id": "63c914fa",
   "metadata": {},
   "outputs": [],
   "source": [
    "# initialize the embedding model\n",
    "embedder = HuggingFaceEmbeddings(model_name=\"all-MiniLM-L6-v2\")\n",
    "\n",
    "# load the previously saved vector database safely\n",
    "vectorstore = FAISS.load_local(\n",
    "    \"vectorstore/\",\n",
    "    embeddings=embedder,\n",
    "    allow_dangerous_deserialization=True # lol had to add this since i created the vector store myself\n",
    ")\n"
   ]
  },
  {
   "cell_type": "markdown",
   "id": "c1a85095",
   "metadata": {},
   "source": [
    "create an example query"
   ]
  },
  {
   "cell_type": "code",
   "execution_count": 11,
   "id": "61d2d552",
   "metadata": {},
   "outputs": [
    {
     "name": "stdout",
     "output_type": "stream",
     "text": [
      "query: battery duration of hip and ankle configurations\n"
     ]
    }
   ],
   "source": [
    "# define the question or phrase the user wants to semantically search\n",
    "query = \"battery duration of hip and ankle configurations\"\n",
    "\n",
    "print(\"query:\", query)"
   ]
  },
  {
   "cell_type": "markdown",
   "id": "c99b0d04",
   "metadata": {},
   "source": [
    "does a similarity search on this query based off the chunks in the vectordb (these chunks are already embedded=vectorized)\n",
    "\n",
    "i decreased the chunk size to 200 since 500 was a bit too large i believe"
   ]
  },
  {
   "cell_type": "code",
   "execution_count": 12,
   "id": "c8af4d60",
   "metadata": {},
   "outputs": [],
   "source": [
    "matches = vectorstore.similarity_search(query, k=3)"
   ]
  },
  {
   "cell_type": "code",
   "execution_count": 13,
   "id": "2617dedd",
   "metadata": {},
   "outputs": [
    {
     "name": "stdout",
     "output_type": "stream",
     "text": [
      "\n",
      "chunk 1:\n",
      "\n",
      "and hip-and-ankle configurations were able to operate for 35, 25, and 15 min, respectively, before reaching 50% of the voltage capacity of the battery (~900 mAh). Similarly, the elbow configuration\n",
      "\n",
      "chunk 2:\n",
      "\n",
      "increase interest in this joint. We evaluated the life span of each configuration when operating on a 22.2-V, 1800-mAh LiPo battery. The hip, ankle, and hip-and-ankle configurations were able to\n",
      "\n",
      "chunk 3:\n",
      "\n",
      "whereas the battery decreased until reaching the manufacturer’s recommended limit. When configured to provide simultaneous assistance to the hip and ankle joints, the device was able to operate for\n"
     ]
    }
   ],
   "source": [
    "for i, match in enumerate(matches):\n",
    "    print(f\"\\nchunk {i+1}:\\n\")\n",
    "    print(match.page_content)"
   ]
  },
  {
   "cell_type": "code",
   "execution_count": 14,
   "id": "c97b2f10",
   "metadata": {},
   "outputs": [],
   "source": [
    "os.makedirs(\"data\", exist_ok=True)\n",
    "\n",
    "for i, match in enumerate(matches):\n",
    "    with open(f\"data/chunk_{i+1}.txt\", \"w\", encoding=\"utf-8\") as f:\n",
    "        f.write(match.page_content)"
   ]
  }
 ],
 "metadata": {
  "kernelspec": {
   "display_name": "ig-reel-env",
   "language": "python",
   "name": "python3"
  },
  "language_info": {
   "codemirror_mode": {
    "name": "ipython",
    "version": 3
   },
   "file_extension": ".py",
   "mimetype": "text/x-python",
   "name": "python",
   "nbconvert_exporter": "python",
   "pygments_lexer": "ipython3",
   "version": "3.11.13"
  }
 },
 "nbformat": 4,
 "nbformat_minor": 5
}
