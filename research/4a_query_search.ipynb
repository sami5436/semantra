{
 "cells": [
  {
   "cell_type": "markdown",
   "id": "72de746d",
   "metadata": {},
   "source": [
    "### 4a_query_search.ipynb  \n",
    "Takes a raw user query.  \n",
    "Performs a top-k similarity search in the vector database.  \n",
    "Returns the top chunks as preliminary matches."
   ]
  },
  {
   "cell_type": "code",
   "execution_count": 1,
   "id": "9fa72f28",
   "metadata": {},
   "outputs": [],
   "source": [
    "from langchain.vectorstores import FAISS\n",
    "from langchain.embeddings import HuggingFaceEmbeddings"
   ]
  },
  {
   "cell_type": "markdown",
   "id": "6da3e13f",
   "metadata": {},
   "source": [
    "we are going to create an embedder object \n",
    "\n",
    "use this embedder object to load the FAISS vectorstore locally"
   ]
  },
  {
   "cell_type": "code",
   "execution_count": 5,
   "id": "63c914fa",
   "metadata": {},
   "outputs": [],
   "source": [
    "# initialize the embedding model\n",
    "embedder = HuggingFaceEmbeddings(model_name=\"all-MiniLM-L6-v2\")\n",
    "\n",
    "# load the previously saved vector database safely\n",
    "vectorstore = FAISS.load_local(\n",
    "    \"vectorstore/\",\n",
    "    embeddings=embedder,\n",
    "    allow_dangerous_deserialization=True # lol had to add this since i created the vector store myself\n",
    ")\n"
   ]
  },
  {
   "cell_type": "markdown",
   "id": "c1a85095",
   "metadata": {},
   "source": [
    "create an example query"
   ]
  },
  {
   "cell_type": "code",
   "execution_count": null,
   "id": "61d2d552",
   "metadata": {},
   "outputs": [
    {
     "name": "stdout",
     "output_type": "stream",
     "text": [
      "query: battery duration of hip and ankle configurations\n"
     ]
    }
   ],
   "source": [
    "# define the question or phrase the user wants to semantically search\n",
    "query = \"battery duration of hip and ankle configurations\"\n",
    "\n",
    "print(\"query:\", query)"
   ]
  }
 ],
 "metadata": {
  "kernelspec": {
   "display_name": "ig-reel-env",
   "language": "python",
   "name": "python3"
  },
  "language_info": {
   "codemirror_mode": {
    "name": "ipython",
    "version": 3
   },
   "file_extension": ".py",
   "mimetype": "text/x-python",
   "name": "python",
   "nbconvert_exporter": "python",
   "pygments_lexer": "ipython3",
   "version": "3.11.13"
  }
 },
 "nbformat": 4,
 "nbformat_minor": 5
}
